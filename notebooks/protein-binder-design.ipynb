{
 "cells": [
  {
   "cell_type": "markdown",
   "metadata": {},
   "source": [
    "Copyright Amazon.com, Inc. or its affiliates. All Rights Reserved.\n",
    "SPDX-License-Identifier: Apache-2.0"
   ]
  },
  {
   "attachments": {},
   "cell_type": "markdown",
   "metadata": {
    "id": "pc5-mbsX9PZC"
   },
   "source": [
    "# Generating New Protein Binders with RFDiffusion, ProteinMPNN, and ESMFold"
   ]
  },
  {
   "attachments": {},
   "cell_type": "markdown",
   "metadata": {},
   "source": [
    "Based on https://github.com/RosettaCommons/RFdiffusion/blob/main/examples/design_ppi.sh"
   ]
  },
  {
   "cell_type": "markdown",
   "metadata": {},
   "source": [
    "## Table of Contents\n",
    "0. [Install Dependencies](#0.-install-dependencies)\n",
    "1. [View Reference Structures](#1.-view-reference-structure)\n",
    "2. [Submit RFDiffusion Job](#2.-submit-rfdiffusion-job) \n",
    "3. [Submit ProteinMPNN Jobs](#3.-submit-proteinmpnn-jobs)\n",
    "4. [Submit ESMFold Jobs](#4.-submit-esmfold-jobs)"
   ]
  },
  {
   "cell_type": "markdown",
   "metadata": {},
   "source": [
    "## 0. Install Dependencies"
   ]
  },
  {
   "cell_type": "code",
   "execution_count": null,
   "metadata": {},
   "outputs": [],
   "source": [
    "%pip install -q -U -r notebook-requirements.txt"
   ]
  },
  {
   "attachments": {},
   "cell_type": "markdown",
   "metadata": {},
   "source": [
    "Import libraries and create aws objects"
   ]
  },
  {
   "cell_type": "code",
   "execution_count": null,
   "metadata": {},
   "outputs": [],
   "source": [
    "import boto3\n",
    "from batchfold.batchfold_environment import BatchFoldEnvironment\n",
    "from batchfold.rfdiffusion_job import RFDiffusionJob\n",
    "from batchfold.proteinmpnn_job import ProteinMPNNJob\n",
    "from batchfold.batchfold_target import BatchFoldTarget\n",
    "from batchfold.esmfold_job import ESMFoldJob\n",
    "from batchfold.utils import utils\n",
    "from datetime import datetime\n",
    "import os\n",
    "import py3Dmol\n",
    "import json\n",
    "import time\n",
    "from math import ceil\n",
    "\n",
    "boto_session = boto3.session.Session()\n",
    "s3 = boto_session.client(\"s3\")\n",
    "batch_environment = BatchFoldEnvironment(boto_session=boto_session)\n",
    "\n",
    "S3_BUCKET = batch_environment.default_bucket\n",
    "S3_PREFIX = \"binder-experiment-\" + datetime.now().strftime(\"%Y%m%d%s\")\n",
    "S3_PATH = os.path.join(\"s3://\", S3_BUCKET, S3_PREFIX)\n",
    "JOB_QUEUE = \"G4dnJobQueue\"\n",
    "print(f\"S3 path is {S3_PATH}\")\n",
    "input_filename = \"insulin_target.pdb\"\n"
   ]
  },
  {
   "attachments": {},
   "cell_type": "markdown",
   "metadata": {
    "id": "W4JpOs6oA-QS"
   },
   "source": [
    "## 1. View Reference Structure"
   ]
  },
  {
   "cell_type": "markdown",
   "metadata": {},
   "source": [
    "View the structure of our backbone target: A portion of the human insulin receptor"
   ]
  },
  {
   "cell_type": "code",
   "execution_count": null,
   "metadata": {},
   "outputs": [],
   "source": [
    "view = py3Dmol.view(input_filename, width=600, height=600)\n",
    "view.setStyle({\"cartoon\": {\"color\": \"spectrum\"}})\n",
    "view.zoomTo()\n",
    "view.show()"
   ]
  },
  {
   "attachments": {},
   "cell_type": "markdown",
   "metadata": {},
   "source": [
    "Create a BatchFold target for our design and upload the pdb file."
   ]
  },
  {
   "cell_type": "code",
   "execution_count": null,
   "metadata": {},
   "outputs": [],
   "source": [
    "target_id = \"BINDER-\" + datetime.now().strftime(\"%Y%m%d%s\")\n",
    "target = BatchFoldTarget(target_id=target_id, s3_bucket=S3_BUCKET, boto_session=boto_session)\n",
    "target.upload_pdb(input_filename)"
   ]
  },
  {
   "attachments": {},
   "cell_type": "markdown",
   "metadata": {},
   "source": [
    "## 2. Submit RFDiffusion Job"
   ]
  },
  {
   "cell_type": "code",
   "execution_count": null,
   "metadata": {},
   "outputs": [],
   "source": [
    "# RFDiffusion example based on https://github.com/RosettaCommons/RFdiffusion/blob/main/examples/design_ppi.sh\n",
    "\n",
    "NUM_DESIGNS = 4\n",
    "\n",
    "params = {\n",
    "    \"contigmap.contigs\": \"[A1-150/0 70-100]\", # Describe the protein we want as residues 1-150 of the A chain of the target protein, then a chain break, then a 70-100 aa binder\n",
    "    \"ppi.hotspot_res\": \"[A59,A83,A91]\", # Target three specific residues on the target, specifically residues 59, 83 and 91 of the A chain\n",
    "    \"inference.num_designs\": NUM_DESIGNS, # Make X number of designs\n",
    "    \"denoiser.noise_scale_ca\": 0, # Reduce the noise added during inference to to improve the quality of the designs, at a cost of reduced diversity\n",
    "    \"denoiser.noise_scale_frame\": 0,\n",
    "}\n",
    "\n",
    "rfdiffusion_job_name = \"RFDiffusionJob\" + datetime.now().strftime(\"%Y%m%d%s\")\n",
    "\n",
    "rfdiffusion_job = RFDiffusionJob(\n",
    "    boto_session=boto_session,\n",
    "    job_name=rfdiffusion_job_name,\n",
    "    input_s3_uri=os.path.join(target.get_pdbs_s3_uri(), os.path.basename(input_filename)),\n",
    "    output_s3_uri=target.get_predictions_s3_uri() + \"/\" + rfdiffusion_job_name,\n",
    "    params=params,\n",
    ")\n",
    "print(f\"Submitting {rfdiffusion_job_name}\")\n",
    "rfdiffusion_submission = batch_environment.submit_job(rfdiffusion_job, job_queue_name=JOB_QUEUE)\n"
   ]
  },
  {
   "attachments": {},
   "cell_type": "markdown",
   "metadata": {},
   "source": [
    "Wait for RFDiffusion job to complete"
   ]
  },
  {
   "cell_type": "code",
   "execution_count": null,
   "metadata": {},
   "outputs": [],
   "source": [
    "rfdiffusion_submission.wait()"
   ]
  },
  {
   "attachments": {},
   "cell_type": "markdown",
   "metadata": {},
   "source": [
    "Download designed structures"
   ]
  },
  {
   "cell_type": "code",
   "execution_count": null,
   "metadata": {},
   "outputs": [],
   "source": [
    "last_rfdiffusion_job_name = target.get_last_job_name(job_type=\"RFDiffusion\")\n",
    "print(f\"Downloading results for job {last_rfdiffusion_job_name}\")\n",
    "local_predictions_dir = target.download_predictions(local_path=\"data\", job=last_rfdiffusion_job_name)"
   ]
  },
  {
   "attachments": {},
   "cell_type": "markdown",
   "metadata": {},
   "source": [
    "Visualize the designed structures."
   ]
  },
  {
   "cell_type": "code",
   "execution_count": null,
   "metadata": {},
   "outputs": [],
   "source": [
    "rfdiffusion_results_dir = os.path.join(local_predictions_dir, target.target_id, \"predictions\", last_rfdiffusion_job_name)\n",
    "\n",
    "structures = []\n",
    "for obj in os.listdir(rfdiffusion_results_dir):\n",
    "    if \".pdb\" in obj:\n",
    "        p = os.path.join(rfdiffusion_results_dir, obj)\n",
    "        with open(p, \"r\") as f:\n",
    "            structures.append(f.read())\n",
    "\n",
    "total_cols = 2\n",
    "total_rows = ceil(len(structures) / total_cols)\n",
    "view = py3Dmol.view(viewergrid=(total_rows, total_cols), width=500, height=500)\n",
    "view.removeAllModels()\n",
    "k = 0\n",
    "for i in range(total_cols):\n",
    "    for j in range(total_rows):\n",
    "        if k < len(structures):\n",
    "            view.addModel(structures[k], \"pdb\", viewer=(i, j))\n",
    "            k += 1\n",
    "        else:\n",
    "            break\n",
    "view.setStyle({\"chain\": \"A\"}, {\"cartoon\": {\"color\": \"grey\"}})        \n",
    "view.setStyle({\"chain\": \"B\"}, {\"cartoon\": {\"color\": \"spectrum\"}})\n",
    "view.zoomTo()\n",
    "view.show()\n"
   ]
  },
  {
   "attachments": {},
   "cell_type": "markdown",
   "metadata": {},
   "source": [
    "View the diffusion trajectory for the first design"
   ]
  },
  {
   "cell_type": "code",
   "execution_count": null,
   "metadata": {},
   "outputs": [],
   "source": [
    "with open(os.path.join(rfdiffusion_results_dir, \"traj/output_0_pX0_traj.pdb\")) as t:\n",
    "    trajectory = t.read()\n",
    "view = py3Dmol.view(width=600, height=600)\n",
    "view.addModelsAsFrames(trajectory)\n",
    "view.setStyle({\"chain\": \"A\"}, {\"cartoon\": {\"color\": \"grey\"}})\n",
    "view.setStyle({\"chain\": \"B\"}, {\"cartoon\": {\"color\": \"spectrum\"}})\n",
    "view.animate({\"loop\": \"backward\"})\n",
    "view.zoomTo()\n",
    "view.show()"
   ]
  },
  {
   "attachments": {},
   "cell_type": "markdown",
   "metadata": {},
   "source": [
    "## 3. Submit ProteinMPNN Jobs"
   ]
  },
  {
   "attachments": {},
   "cell_type": "markdown",
   "metadata": {},
   "source": [
    "RFdiffusion gives us the backbone coordinates, but not the side chains. We use ProteinMPNN to generate some amino acid sequences that are most likely to adopt the predicted backbone. In this case, we'll create 4 sequences for each RFdiffusion prediction, so 16 in total (4x4)."
   ]
  },
  {
   "cell_type": "markdown",
   "metadata": {},
   "source": [
    "Submit ProteinMPNN job."
   ]
  },
  {
   "cell_type": "code",
   "execution_count": null,
   "metadata": {},
   "outputs": [],
   "source": [
    "NUM_SEQS_PER_DESIGN = 4\n",
    "\n",
    "proteinmpnn_job_base = \"ProteinMPNNJob\" + datetime.now().strftime(\"%Y%m%d%s\")\n",
    "\n",
    "protein_mpnn_submissions = []\n",
    "for i in range(NUM_DESIGNS):\n",
    "    proteinmpnn_job_name = proteinmpnn_job_base + f\"_{i}\"\n",
    "    proteinmpnn_job = ProteinMPNNJob(\n",
    "        boto_session=boto_session,\n",
    "        job_name=proteinmpnn_job_name,\n",
    "        pdb_s3_uri=os.path.join(target.get_predictions_s3_uri(), rfdiffusion_job_name, f\"output_{i}.pdb\"),\n",
    "        output_s3_uri=os.path.join(target.get_predictions_s3_uri(), proteinmpnn_job_name),\n",
    "        pdb_path_chains=\"A\",\n",
    "        num_seq_per_target=NUM_SEQS_PER_DESIGN,\n",
    "        sampling_temp=0.01,\n",
    "        batch_size=1,\n",
    "        remove_input_from_output=True\n",
    "    )\n",
    "    print(f\"Submitting {proteinmpnn_job_name}\")\n",
    "    submission = batch_environment.submit_job(\n",
    "        proteinmpnn_job, job_queue_name=JOB_QUEUE, depends_on=[rfdiffusion_submission]\n",
    "    )\n",
    "    protein_mpnn_submissions.append(submission)\n"
   ]
  },
  {
   "attachments": {},
   "cell_type": "markdown",
   "metadata": {},
   "source": [
    "Wait for ProteinMPNN jobs to complete."
   ]
  },
  {
   "cell_type": "code",
   "execution_count": null,
   "metadata": {},
   "outputs": [],
   "source": [
    "for submission in protein_mpnn_submissions:\n",
    "    submission.wait()"
   ]
  },
  {
   "attachments": {},
   "cell_type": "markdown",
   "metadata": {},
   "source": [
    "Download and process designed sequences"
   ]
  },
  {
   "cell_type": "code",
   "execution_count": null,
   "metadata": {},
   "outputs": [],
   "source": [
    "NUM_DESIGNS = 4\n",
    "fasta = \"\"\n",
    "seq_records = []\n",
    "for i in range(NUM_DESIGNS):\n",
    "    job_name = proteinmpnn_job_base + f\"_{i}\"\n",
    "    local_predictions_dir = target.download_predictions(local_path=\"data\", job=job_name)\n",
    "    target.add_fasta(os.path.join(local_predictions_dir, target.target_id, \"predictions\", job_name, f\"seqs/output_{i}.fa\"))\n",
    "target.sequences"
   ]
  },
  {
   "attachments": {},
   "cell_type": "markdown",
   "metadata": {},
   "source": [
    "## 4. Submit ESMFold Jobs"
   ]
  },
  {
   "attachments": {},
   "cell_type": "markdown",
   "metadata": {},
   "source": [
    "There are many ways we could evaluate the quality of our predictions. For this example, we'll use ESMFold to identify the \"foldability\" of each sequence, measured by the mean pLDDT score for each structure."
   ]
  },
  {
   "attachments": {},
   "cell_type": "markdown",
   "metadata": {},
   "source": [
    "Submit ESMFold jobs"
   ]
  },
  {
   "cell_type": "code",
   "execution_count": null,
   "metadata": {},
   "outputs": [],
   "source": [
    "esmfold_job_base = \"ESMFoldJob\" + datetime.now().strftime(\"%Y%m%d%s\")\n",
    "\n",
    "esmfold_submissions = []\n",
    "for i in range(NUM_DESIGNS):\n",
    "    esmfold_job_name = esmfold_job_base + f\"_{i}\"\n",
    "    esmfold_job = ESMFoldJob(\n",
    "        job_name=esmfold_job_name,\n",
    "        target_id=target.target_id,\n",
    "        fasta_s3_uri=os.path.join(target.get_predictions_s3_uri(), proteinmpnn_job_base + f\"_{i}/seqs/output_{i}.fa\"),\n",
    "        output_s3_uri=os.path.join(target.get_predictions_s3_uri(), esmfold_job_name),\n",
    "        boto_session=boto_session\n",
    "    )\n",
    "    print(f\"Submitting {esmfold_job_name}\")\n",
    "    submission = batch_environment.submit_job(\n",
    "        esmfold_job, job_queue_name=JOB_QUEUE, depends_on=[protein_mpnn_submissions[i]]\n",
    "    )\n",
    "    esmfold_submissions.append(submission)"
   ]
  },
  {
   "attachments": {},
   "cell_type": "markdown",
   "metadata": {},
   "source": [
    "Wait for the ESMFold job to complete"
   ]
  },
  {
   "cell_type": "code",
   "execution_count": null,
   "metadata": {},
   "outputs": [],
   "source": [
    "for submission in esmfold_submissions:\n",
    "    submission.wait()"
   ]
  },
  {
   "attachments": {},
   "cell_type": "markdown",
   "metadata": {},
   "source": [
    "Download and display ESMFold metrics"
   ]
  },
  {
   "cell_type": "code",
   "execution_count": null,
   "metadata": {},
   "outputs": [],
   "source": [
    "pdb_list = []\n",
    "for i in range(NUM_DESIGNS):\n",
    "    job_name = esmfold_submissions[i].job_name\n",
    "    print(f\"Downloading results for job {job_name}\")\n",
    "    local_predictions_dir = target.download_predictions(local_path=\"data\", job=job_name)\n",
    "\n",
    "    with open(os.path.join(local_predictions_dir, target.target_id, \"predictions\", job_name, f\"metrics.json\")) as f:\n",
    "        metrics = json.load(f)\n",
    "    total_time = metrics.pop('total')\n",
    "    prediction_time = metrics.pop('time')\n",
    "    end_time = metrics.pop('end_time')\n",
    "    \n",
    "    for structure in metrics.items():\n",
    "        \n",
    "        id = structure[0]                       \n",
    "        pdb = os.path.join(local_predictions_dir, target.target_id, \"predictions\", job_name, id + \".pdb\")\n",
    "        pdb_list.append(pdb)  \n",
    "        \n",
    "        print(\"-\"*50)\n",
    "        print(target.sequences[id].description)\n",
    "        print(structure[1])\n",
    "        print(str(target.sequences[id].seq))\n",
    "        print(pdb)"
   ]
  },
  {
   "attachments": {},
   "cell_type": "markdown",
   "metadata": {},
   "source": [
    "Visualize the predicted structures."
   ]
  },
  {
   "cell_type": "code",
   "execution_count": null,
   "metadata": {},
   "outputs": [],
   "source": [
    "structures = []\n",
    "for p in pdb_list:\n",
    "    with open(p, \"r\") as f:\n",
    "        structures.append(f.read())\n",
    "\n",
    "total_cols = 4\n",
    "total_rows = ceil(len(structures) / total_cols)\n",
    "view = py3Dmol.view(viewergrid=(total_rows, total_cols), width=750, height=750)\n",
    "view.removeAllModels()\n",
    "k = 0\n",
    "for i in range(total_cols):\n",
    "    for j in range(total_rows):\n",
    "        if k < len(structures):\n",
    "            view.addModel(structures[k], \"pdb\", viewer=(i, j))\n",
    "            k += 1\n",
    "        else:\n",
    "            break\n",
    "view.setStyle({\"cartoon\": {\"colorscheme\": \"amino\"}})        \n",
    "view.zoomTo()\n",
    "view.show()\n"
   ]
  },
  {
   "attachments": {},
   "cell_type": "markdown",
   "metadata": {},
   "source": [
    "In this case, it looks like ESMFold is able to make confident predictions for several of the designed sequences. These are good candidates for synthesis and additional lab testing."
   ]
  }
 ],
 "metadata": {
  "accelerator": "GPU",
  "colab": {
   "collapsed_sections": [],
   "name": "AlphaFold.ipynb",
   "private_outputs": true,
   "provenance": []
  },
  "kernelspec": {
   "display_name": "Python 3.8.10 ('.venv': venv)",
   "language": "python",
   "name": "python3"
  },
  "language_info": {
   "codemirror_mode": {
    "name": "ipython",
    "version": 3
   },
   "file_extension": ".py",
   "mimetype": "text/x-python",
   "name": "python",
   "nbconvert_exporter": "python",
   "pygments_lexer": "ipython3",
   "version": "3.8.10"
  },
  "vscode": {
   "interpreter": {
    "hash": "a1e60809b7f0a82b562ad10373da343921f7f222b56c39f24f5ac5a3d051206d"
   }
  }
 },
 "nbformat": 4,
 "nbformat_minor": 0
}
