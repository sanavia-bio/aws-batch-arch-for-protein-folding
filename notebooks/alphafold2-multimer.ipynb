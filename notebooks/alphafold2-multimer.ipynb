{
 "cells": [
  {
   "cell_type": "markdown",
   "metadata": {},
   "source": [
    "Copyright Amazon.com, Inc. or its affiliates. All Rights Reserved.\n",
    "SPDX-License-Identifier: Apache-2.0"
   ]
  },
  {
   "cell_type": "markdown",
   "metadata": {
    "id": "pc5-mbsX9PZC"
   },
   "source": [
    "# Protein Complex Analysis with AlphaFold-Multimer"
   ]
  },
  {
   "cell_type": "markdown",
   "metadata": {},
   "source": [
    "## Table of Contents\n",
    "0. [Install Dependencies](#0.-Install-Dependencies)\n",
    "1. [Create Target](#1.-Create-Target)\n",
    "2. [Submit Sequence Alignment and Folding Jobs](#2.-Submit-Sequence-Alignment-and-Folding-Jobs) \n",
    "3. [Download and Visualize Results](#3.-Download-and-Visualize-Results)"
   ]
  },
  {
   "cell_type": "markdown",
   "metadata": {},
   "source": [
    "## 0. Install Dependencies"
   ]
  },
  {
   "cell_type": "code",
   "execution_count": null,
   "metadata": {},
   "outputs": [],
   "source": [
    "%pip install -U -q -r notebook-requirements.txt"
   ]
  },
  {
   "cell_type": "code",
   "execution_count": null,
   "metadata": {},
   "outputs": [],
   "source": [
    "# Import required Python packages\n",
    "\n",
    "import boto3\n",
    "from datetime import datetime\n",
    "from batchfold.batchfold_environment import BatchFoldEnvironment\n",
    "from batchfold.batchfold_target import BatchFoldTarget\n",
    "from batchfold.jackhmmer_job import JackhmmerJob\n",
    "from batchfold.alphafold2_job import AlphaFold2Job\n",
    "from batchfold.utils import utils\n",
    "\n",
    "# Create AWS clients\n",
    "boto_session = boto3.session.Session()\n",
    "\n",
    "batch_environment = BatchFoldEnvironment(boto_session=boto_session)\n",
    "\n",
    "S3_BUCKET = batch_environment.default_bucket\n",
    "print(f\" S3 bucket name is {S3_BUCKET}\")"
   ]
  },
  {
   "cell_type": "markdown",
   "metadata": {
    "id": "W4JpOs6oA-QS"
   },
   "source": [
    "## 1. Create Target"
   ]
  },
  {
   "cell_type": "code",
   "execution_count": null,
   "metadata": {},
   "outputs": [],
   "source": [
    "target_id = \"4ZQK\"\n",
    "target = BatchFoldTarget(target_id=target_id, s3_bucket=S3_BUCKET, boto_session=boto_session)\n",
    "target.add_sequence(\n",
    "    seq_id=\"4ZQK_1\",\n",
    "    seq=\"AFTVTVPKDLYVVEYGSNMTIECKFPVEKQLDLAALIVYWEMEDKNIIQFVHGEEDLKVQHSSYRQRARLLKDQLSLGNAALQITDVKLQDAGVYRCMISYGGADYKRITVKVNA\",\n",
    "    description=\"Chain A|Programmed cell death 1 ligand 1|Homo sapiens (9606)\",\n",
    ")\n",
    "target.add_sequence(\n",
    "    seq_id=\"4ZQK_2\",\n",
    "    seq=\"NPPTFSPALLVVTEGDNATFTCSFSNTSESFVLNWYRMSPSNQTDKLAAFPEDRSQPGQDSRFRVTQLPNGRDFHMSVVRARRNDSGTYLCGAISLAPKAQIKESLRAELRVTERRAE\",\n",
    "    description=\"Chain B|Programmed cell death protein 1|Homo sapiens (9606)\",\n",
    ")"
   ]
  },
  {
   "cell_type": "markdown",
   "metadata": {},
   "source": [
    "## 2. Submit Sequence Alignment and Folding Jobs"
   ]
  },
  {
   "cell_type": "code",
   "execution_count": null,
   "metadata": {},
   "outputs": [],
   "source": [
    "jackhmmer_job_name = (\n",
    "    target.target_id + \"_JackhmmerJob_\" + datetime.now().strftime(\"%Y%m%d%s\")\n",
    ")\n",
    "jackhmmer_job = JackhmmerJob(\n",
    "    job_name=jackhmmer_job_name,\n",
    "    target_id=target.target_id,\n",
    "    fasta_s3_uri=target.get_fasta_s3_uri(),\n",
    "    output_s3_uri=target.get_msas_s3_uri(),\n",
    "    boto_session=boto_session,\n",
    "    cpu=16,\n",
    "    memory=31,\n",
    "    model_preset=\"multimer\",\n",
    ")\n",
    "\n",
    "alphafold2_job_name = (\n",
    "    target.target_id + \"_AlphaFold2Job_\" + datetime.now().strftime(\"%Y%m%d%s\")\n",
    ")\n",
    "alphafold2_job = AlphaFold2Job(\n",
    "    job_name=alphafold2_job_name,\n",
    "    boto_session=boto_session,\n",
    "    target_id=target.target_id,\n",
    "    fasta_s3_uri=target.get_fasta_s3_uri(),\n",
    "    msa_s3_uri=target.get_msas_s3_uri(),\n",
    "    output_s3_uri=target.get_predictions_s3_uri() + \"/\" + alphafold2_job_name,\n",
    "    use_precomputed_msas=True,\n",
    "    model_preset=\"multimer\",\n",
    "    cpu=4,\n",
    "    memory=15,  # Why not 16? ECS needs about 1 GB for container services\n",
    "    gpu=1,\n",
    ")\n",
    "\n",
    "jackhmmer_submission = batch_environment.submit_job(\n",
    "    jackhmmer_job, job_queue_name=\"GravitonOnDemandJobQueue\"\n",
    ")\n",
    "alphafold2_submission = batch_environment.submit_job(\n",
    "    alphafold2_job, job_queue_name=\"G4dnJobQueue\", depends_on=[jackhmmer_submission]\n",
    ")\n"
   ]
  },
  {
   "cell_type": "markdown",
   "metadata": {},
   "source": [
    "Check on job statuses"
   ]
  },
  {
   "cell_type": "code",
   "execution_count": null,
   "metadata": {},
   "outputs": [],
   "source": [
    "for job in [jackhmmer_job, alphafold2_job]:\n",
    "    print(\n",
    "        f\"Job {job.describe_job()[0]['jobName']} is in status {job.describe_job()[0]['status']}\"\n",
    "    )"
   ]
  },
  {
   "cell_type": "markdown",
   "metadata": {},
   "source": [
    "## 3. Download and Visualize Results"
   ]
  },
  {
   "cell_type": "markdown",
   "metadata": {},
   "source": [
    "Once the jobs are finished, download the results"
   ]
  },
  {
   "cell_type": "markdown",
   "metadata": {},
   "source": [
    "### Plot Alignment Data"
   ]
  },
  {
   "cell_type": "code",
   "execution_count": null,
   "metadata": {},
   "outputs": [],
   "source": [
    "target = BatchFoldTarget(\n",
    "    target_id=target_id, s3_bucket=S3_BUCKET, boto_session=boto_session\n",
    ")"
   ]
  },
  {
   "cell_type": "code",
   "execution_count": null,
   "metadata": {},
   "outputs": [],
   "source": [
    "target.download_msas(local_path=\"data\")\n",
    "utils.plot_msa_output_folder(\n",
    "    path=f\"data/{target_id}/msas/jackhmmer\", id=target_id\n",
    ")"
   ]
  },
  {
   "cell_type": "markdown",
   "metadata": {},
   "source": [
    "### Plot Predicted Structure"
   ]
  },
  {
   "cell_type": "code",
   "execution_count": null,
   "metadata": {},
   "outputs": [],
   "source": [
    "last_job_name = target.get_last_job_name(job_type=\"AlphaFold2\")\n",
    "\n",
    "print(f\"Downloading results for job {last_job_name}\")\n",
    "target.download_predictions(local_path=\"data\", job=last_job_name)\n",
    "\n",
    "print(\"Identifying best model\")\n",
    "best_model_name = utils.get_best_alphafold_model(f\"data/{target_id}/predictions/{last_job_name}/ranking_debug.json\")\n",
    "\n",
    "print(f\"Displaying predicted structure for model {best_model_name}\")\n",
    "pdb = f\"data/{target_id}/predictions/{last_job_name}/ranked_0.pdb\"\n",
    "utils.plot_banded_pdb(pdb)"
   ]
  }
 ],
 "metadata": {
  "accelerator": "GPU",
  "colab": {
   "collapsed_sections": [],
   "name": "AlphaFold.ipynb",
   "private_outputs": true,
   "provenance": []
  },
  "kernelspec": {
   "display_name": "Python 3.8.10 ('.venv': venv)",
   "language": "python",
   "name": "python3"
  },
  "language_info": {
   "codemirror_mode": {
    "name": "ipython",
    "version": 3
   },
   "file_extension": ".py",
   "mimetype": "text/x-python",
   "name": "python",
   "nbconvert_exporter": "python",
   "pygments_lexer": "ipython3",
   "version": "3.8.10"
  },
  "vscode": {
   "interpreter": {
    "hash": "a1e60809b7f0a82b562ad10373da343921f7f222b56c39f24f5ac5a3d051206d"
   }
  }
 },
 "nbformat": 4,
 "nbformat_minor": 0
}
